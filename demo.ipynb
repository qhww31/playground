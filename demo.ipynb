{
 "cells": [
  {
   "cell_type": "code",
   "execution_count": 1,
   "id": "09116309",
   "metadata": {},
   "outputs": [],
   "source": [
    "import cv2 as cv\n",
    "import numpy as np\n",
    "import matplotlib.pyplot as plt"
   ]
  },
  {
   "cell_type": "code",
   "execution_count": null,
   "id": "b5cba510",
   "metadata": {},
   "outputs": [],
   "source": [
    "cv.resize()"
   ]
  },
  {
   "cell_type": "code",
   "execution_count": 3,
   "id": "68d4c56b",
   "metadata": {},
   "outputs": [
    {
     "data": {
      "text/plain": [
       "4"
      ]
     },
     "execution_count": 3,
     "metadata": {},
     "output_type": "execute_result"
    }
   ],
   "source": [
    "x = 2\n",
    "x**2"
   ]
  },
  {
   "cell_type": "code",
   "execution_count": 4,
   "id": "2d2e9615",
   "metadata": {},
   "outputs": [
    {
     "name": "stdout",
     "output_type": "stream",
     "text": [
      "UTAR is great!\n"
     ]
    }
   ],
   "source": [
    "print('UTAR is great!')"
   ]
  },
  {
   "cell_type": "markdown",
   "id": "2563b9a2",
   "metadata": {},
   "source": [
    "# demo"
   ]
  },
  {
   "cell_type": "code",
   "execution_count": 11,
   "id": "32118d3b",
   "metadata": {
    "collapsed": true
   },
   "outputs": [
    {
     "name": "stdout",
     "output_type": "stream",
     "text": [
      "Iteration #0\n",
      "Iteration #1\n",
      "Iteration #2\n",
      "Iteration #3\n",
      "Iteration #4\n",
      "Iteration #5\n",
      "Iteration #6\n",
      "Iteration #7\n",
      "Iteration #8\n",
      "Iteration #9\n",
      "Iteration #10\n",
      "Iteration #11\n",
      "Iteration #12\n",
      "Iteration #13\n",
      "Iteration #14\n",
      "Iteration #15\n",
      "Iteration #16\n",
      "Iteration #17\n",
      "Iteration #18\n",
      "Iteration #19\n",
      "Iteration #20\n",
      "Iteration #21\n",
      "Iteration #22\n",
      "Iteration #23\n",
      "Iteration #24\n",
      "Iteration #25\n",
      "Iteration #26\n",
      "Iteration #27\n",
      "Iteration #28\n",
      "Iteration #29\n",
      "Iteration #30\n",
      "Iteration #31\n",
      "Iteration #32\n",
      "Iteration #33\n",
      "Iteration #34\n",
      "Iteration #35\n",
      "Iteration #36\n",
      "Iteration #37\n",
      "Iteration #38\n",
      "Iteration #39\n",
      "Iteration #40\n",
      "Iteration #41\n",
      "Iteration #42\n",
      "Iteration #43\n",
      "Iteration #44\n",
      "Iteration #45\n",
      "Iteration #46\n",
      "Iteration #47\n",
      "Iteration #48\n",
      "Iteration #49\n",
      "Iteration #50\n",
      "Iteration #51\n",
      "Iteration #52\n",
      "Iteration #53\n",
      "Iteration #54\n",
      "Iteration #55\n",
      "Iteration #56\n",
      "Iteration #57\n",
      "Iteration #58\n",
      "Iteration #59\n",
      "Iteration #60\n",
      "Iteration #61\n",
      "Iteration #62\n",
      "Iteration #63\n",
      "Iteration #64\n",
      "Iteration #65\n",
      "Iteration #66\n",
      "Iteration #67\n",
      "Iteration #68\n",
      "Iteration #69\n",
      "Iteration #70\n",
      "Iteration #71\n",
      "Iteration #72\n",
      "Iteration #73\n",
      "Iteration #74\n",
      "Iteration #75\n",
      "Iteration #76\n",
      "Iteration #77\n",
      "Iteration #78\n",
      "Iteration #79\n",
      "Iteration #80\n",
      "Iteration #81\n",
      "Iteration #82\n",
      "Iteration #83\n",
      "Iteration #84\n",
      "Iteration #85\n",
      "Iteration #86\n",
      "Iteration #87\n",
      "Iteration #88\n",
      "Iteration #89\n",
      "Iteration #90\n",
      "Iteration #91\n",
      "Iteration #92\n",
      "Iteration #93\n",
      "Iteration #94\n",
      "Iteration #95\n",
      "Iteration #96\n",
      "Iteration #97\n",
      "Iteration #98\n",
      "Iteration #99\n"
     ]
    }
   ],
   "source": [
    "for i in range(100):\n",
    "    print(f'Iteration #{i}')"
   ]
  },
  {
   "cell_type": "code",
   "execution_count": 14,
   "id": "b6841250",
   "metadata": {},
   "outputs": [
    {
     "data": {
      "text/plain": [
       "'C:\\\\Users\\\\User\\\\image processing\\\\image_processing_UCCC2513'"
      ]
     },
     "execution_count": 14,
     "metadata": {},
     "output_type": "execute_result"
    }
   ],
   "source": [
    "%pwd"
   ]
  },
  {
   "cell_type": "code",
   "execution_count": 17,
   "id": "b60178b2",
   "metadata": {
    "collapsed": true
   },
   "outputs": [
    {
     "data": {
      "text/plain": [
       "{'ALLUSERSPROFILE': 'C:\\\\ProgramData',\n",
       " 'APPDATA': 'C:\\\\Users\\\\User\\\\AppData\\\\Roaming',\n",
       " 'COMMONPROGRAMFILES': 'C:\\\\Program Files\\\\Common Files',\n",
       " 'COMMONPROGRAMFILES(X86)': 'C:\\\\Program Files (x86)\\\\Common Files',\n",
       " 'COMMONPROGRAMW6432': 'C:\\\\Program Files\\\\Common Files',\n",
       " 'COMPUTERNAME': 'LAPTOP-N2AJGH91',\n",
       " 'COMSPEC': 'C:\\\\WINDOWS\\\\system32\\\\cmd.exe',\n",
       " 'DRIVERDATA': 'C:\\\\Windows\\\\System32\\\\Drivers\\\\DriverData',\n",
       " 'FPS_BROWSER_APP_PROFILE_STRING': 'Internet Explorer',\n",
       " 'FPS_BROWSER_USER_PROFILE_STRING': 'Default',\n",
       " 'HOMEDRIVE': 'C:',\n",
       " 'HOMEPATH': '\\\\Users\\\\User',\n",
       " 'LOCALAPPDATA': 'C:\\\\Users\\\\User\\\\AppData\\\\Local',\n",
       " 'LOGONSERVER': '\\\\\\\\LAPTOP-N2AJGH91',\n",
       " 'NUMBER_OF_PROCESSORS': '8',\n",
       " 'ONEDRIVE': 'C:\\\\Users\\\\User\\\\OneDrive',\n",
       " 'OS': 'Windows_NT',\n",
       " 'PATH': 'C:\\\\Users\\\\User\\\\AppData\\\\Local\\\\Programs\\\\Python\\\\Python39\\\\Lib\\\\site-packages\\\\cv2\\\\../../x64/vc14/bin;C:\\\\Program Files (x86)\\\\Common Files\\\\Oracle\\\\Java\\\\javapath;C:\\\\WINDOWS\\\\system32;C:\\\\WINDOWS;C:\\\\WINDOWS\\\\System32\\\\Wbem;C:\\\\WINDOWS\\\\System32\\\\WindowsPowerShell\\\\v1.0\\\\;C:\\\\WINDOWS\\\\System32\\\\OpenSSH\\\\;C:\\\\Program Files\\\\MATLAB\\\\R2019a\\\\bin;C:\\\\Program Files (x86)\\\\Calibre2\\\\;C:\\\\opencv\\\\build\\\\x64\\\\vc15\\\\bin;C:\\\\Program Files\\\\dotnet\\\\;C:\\\\opencv\\\\build\\\\x64\\\\vc15\\\\bin;C:\\\\Users\\\\User\\\\AppData\\\\Local\\\\Programs\\\\Python\\\\Python39\\\\Scripts\\\\;C:\\\\Users\\\\User\\\\AppData\\\\Local\\\\Programs\\\\Python\\\\Python39\\\\;C:\\\\Users\\\\User\\\\AppData\\\\Local\\\\Microsoft\\\\WindowsApps;C:\\\\Users\\\\User\\\\AppData\\\\Roaming\\\\TinyTeX\\\\bin\\\\win32;C:\\\\Program Files\\\\Graphviz\\\\bin;C:\\\\Users\\\\User\\\\AppData\\\\Local\\\\Programs\\\\Julia-1.7.2\\\\bin;C:\\\\Users\\\\User\\\\.dotnet\\\\tools',\n",
       " 'PATHEXT': '.COM;.EXE;.BAT;.CMD;.VBS;.VBE;.JS;.JSE;.WSF;.WSH;.MSC',\n",
       " 'PROCESSOR_ARCHITECTURE': 'AMD64',\n",
       " 'PROCESSOR_IDENTIFIER': 'AMD64 Family 23 Model 24 Stepping 1, AuthenticAMD',\n",
       " 'PROCESSOR_LEVEL': '23',\n",
       " 'PROCESSOR_REVISION': '1801',\n",
       " 'PROGRAMDATA': 'C:\\\\ProgramData',\n",
       " 'PROGRAMFILES': 'C:\\\\Program Files',\n",
       " 'PROGRAMFILES(X86)': 'C:\\\\Program Files (x86)',\n",
       " 'PROGRAMW6432': 'C:\\\\Program Files',\n",
       " 'PROMPT': '$P$G',\n",
       " 'PSMODULEPATH': 'C:\\\\Program Files\\\\WindowsPowerShell\\\\Modules;C:\\\\WINDOWS\\\\system32\\\\WindowsPowerShell\\\\v1.0\\\\Modules',\n",
       " 'PUBLIC': 'C:\\\\Users\\\\Public',\n",
       " 'PYTHONPATH': 'C:\\\\Users\\\\User\\\\AppData\\\\Local\\\\Programs\\\\Python\\\\Python39\\\\Scripts',\n",
       " 'SESSIONNAME': 'Console',\n",
       " 'SYSTEMDRIVE': 'C:',\n",
       " 'SYSTEMROOT': 'C:\\\\WINDOWS',\n",
       " 'TEMP': 'C:\\\\Users\\\\User\\\\AppData\\\\Local\\\\Temp',\n",
       " 'TMP': 'C:\\\\Users\\\\User\\\\AppData\\\\Local\\\\Temp',\n",
       " 'USERDOMAIN': 'LAPTOP-N2AJGH91',\n",
       " 'USERDOMAIN_ROAMINGPROFILE': 'LAPTOP-N2AJGH91',\n",
       " 'USERNAME': 'User',\n",
       " 'USERPROFILE': 'C:\\\\Users\\\\User',\n",
       " 'VBOX_HWVIRTEX_IGNORE_SVM_IN_USE': '1',\n",
       " 'WINDIR': 'C:\\\\WINDOWS',\n",
       " 'PYDEVD_USE_FRAME_EVAL': 'NO',\n",
       " 'JPY_INTERRUPT_EVENT': '2280',\n",
       " 'IPY_INTERRUPT_EVENT': '2280',\n",
       " 'JPY_PARENT_PID': '2472',\n",
       " 'TERM': 'xterm-color',\n",
       " 'CLICOLOR': '1',\n",
       " 'PAGER': 'cat',\n",
       " 'GIT_PAGER': 'cat',\n",
       " 'MPLBACKEND': 'module://matplotlib_inline.backend_inline'}"
      ]
     },
     "execution_count": 17,
     "metadata": {},
     "output_type": "execute_result"
    }
   ],
   "source": [
    "%env"
   ]
  },
  {
   "cell_type": "code",
   "execution_count": 18,
   "id": "335818bf",
   "metadata": {},
   "outputs": [
    {
     "name": "stdout",
     "output_type": "stream",
     "text": [
      "Available matplotlib backends: ['tk', 'gtk', 'gtk3', 'gtk4', 'wx', 'qt4', 'qt5', 'qt6', 'qt', 'osx', 'nbagg', 'notebook', 'agg', 'svg', 'pdf', 'ps', 'inline', 'ipympl', 'widget']\n"
     ]
    }
   ],
   "source": [
    "%matplotlib --list"
   ]
  },
  {
   "cell_type": "code",
   "execution_count": 19,
   "id": "6b2e93da",
   "metadata": {},
   "outputs": [
    {
     "name": "stdout",
     "output_type": "stream",
     "text": [
      "0.3333333333333333\n"
     ]
    }
   ],
   "source": [
    "x = 1/3\n",
    "print(x)"
   ]
  },
  {
   "cell_type": "code",
   "execution_count": 21,
   "id": "d188928e",
   "metadata": {},
   "outputs": [
    {
     "data": {
      "text/plain": [
       "0.333"
      ]
     },
     "execution_count": 21,
     "metadata": {},
     "output_type": "execute_result"
    }
   ],
   "source": [
    "%precision 3\n",
    "\n",
    "x"
   ]
  },
  {
   "cell_type": "code",
   "execution_count": 24,
   "id": "736371de",
   "metadata": {},
   "outputs": [
    {
     "name": "stdout",
     "output_type": "stream",
     "text": [
      "Wall time: 60.2 ms\n"
     ]
    },
    {
     "data": {
      "text/plain": [
       "499999500000"
      ]
     },
     "execution_count": 24,
     "metadata": {},
     "output_type": "execute_result"
    }
   ],
   "source": [
    "%time sum(range(1000000))"
   ]
  },
  {
   "cell_type": "code",
   "execution_count": 25,
   "id": "034e130e",
   "metadata": {},
   "outputs": [
    {
     "name": "stdout",
     "output_type": "stream",
     "text": [
      "IPython\t cv\t i\t np\t plt\t x\t \n"
     ]
    }
   ],
   "source": [
    "%who"
   ]
  },
  {
   "cell_type": "code",
   "execution_count": 26,
   "id": "f9c2b68f",
   "metadata": {},
   "outputs": [
    {
     "name": "stdout",
     "output_type": "stream",
     "text": [
      "i\t \n"
     ]
    }
   ],
   "source": [
    "%who int"
   ]
  },
  {
   "cell_type": "code",
   "execution_count": 27,
   "id": "8e5c35ed",
   "metadata": {},
   "outputs": [
    {
     "name": "stdout",
     "output_type": "stream",
     "text": [
      "x\t \n"
     ]
    }
   ],
   "source": [
    "%who float"
   ]
  },
  {
   "cell_type": "code",
   "execution_count": 28,
   "id": "7fc6d6b7",
   "metadata": {},
   "outputs": [
    {
     "name": "stdout",
     "output_type": "stream",
     "text": [
      "Couldn't find program: 'bash'\n"
     ]
    }
   ],
   "source": [
    "%%script bash\n",
    "ls"
   ]
  },
  {
   "cell_type": "code",
   "execution_count": 30,
   "id": "95f3867b",
   "metadata": {
    "collapsed": true
   },
   "outputs": [
    {
     "name": "stdout",
     "output_type": "stream",
     "text": [
      " Volume in drive C is OS\n",
      " Volume Serial Number is CE4D-4ACD\n",
      "\n",
      " Directory of C:\\Users\\User\\image processing\\image_processing_UCCC2513\n",
      "\n",
      "14/06/2022  09:27 AM    <DIR>          .\n",
      "14/06/2022  09:27 AM    <DIR>          ..\n",
      "10/06/2022  12:49 PM    <DIR>          .ipynb_checkpoints\n",
      "04/06/2022  11:05 PM            13,276 coins.jfif\n",
      "14/06/2022  09:27 AM            12,057 demo.ipynb\n",
      "06/06/2022  10:44 AM             5,365 dog.jfif\n",
      "03/06/2022  02:27 PM        22,700,438 img_pexels.mp4\n",
      "03/06/2022  01:05 PM            52,378 lena.bmp\n",
      "03/06/2022  01:07 PM            27,729 lena.gif\n",
      "03/06/2022  01:00 PM             8,006 lena.jfif\n",
      "03/06/2022  01:08 PM            17,644 lena.jpg\n",
      "03/06/2022  01:07 PM           136,884 lena.png\n",
      "03/06/2022  01:18 PM           131,202 lena.tif\n",
      "11/06/2022  03:56 AM            18,244 lena_save.jpg\n",
      "06/06/2022  04:26 PM             3,977 low_contrast_img.jfif\n",
      "05/06/2022  11:00 AM            24,490 noisy.jfif\n",
      "03/06/2022  03:57 PM         4,884,038 out.avi\n",
      "04/06/2022  01:51 PM           120,671 RandomColor.png\n",
      "04/06/2022  01:51 PM           120,671 RandomGray.png\n",
      "06/06/2022  10:56 AM             3,674 star.png\n",
      "11/06/2022  01:20 PM            24,348 tutorial_w4.ipynb\n",
      "12/06/2022  03:48 PM           393,471 tutorial_w5.ipynb\n",
      "06/06/2022  04:02 PM           325,330 week6.ipynb\n",
      "              20 File(s)     29,023,893 bytes\n",
      "               3 Dir(s)  90,449,874,944 bytes free\n"
     ]
    }
   ],
   "source": [
    "!dir"
   ]
  },
  {
   "cell_type": "markdown",
   "id": "dcefe5a3",
   "metadata": {},
   "source": [
    "$ \\sigma $"
   ]
  },
  {
   "cell_type": "code",
   "execution_count": 1,
   "id": "381ecdf7",
   "metadata": {},
   "outputs": [],
   "source": [
    "import numpy as np"
   ]
  },
  {
   "cell_type": "code",
   "execution_count": null,
   "id": "62113e68",
   "metadata": {},
   "outputs": [],
   "source": [
    "a = np.array([[[1, 2], [3, 4], [5, 6], [7, 8]], \n",
    "             [[0, 3], [9, 1], [1, 0], [8, 1]],\n",
    "             [[2, 2], [1, 1], [0, 0], [4, 5]]])"
   ]
  },
  {
   "cell_type": "code",
   "execution_count": 2,
   "id": "aceb4f52",
   "metadata": {},
   "outputs": [
    {
     "name": "stdout",
     "output_type": "stream",
     "text": [
      "[[[1 2]\n",
      "  [3 4]\n",
      "  [5 6]\n",
      "  [7 8]]\n",
      "\n",
      " [[0 3]\n",
      "  [9 1]\n",
      "  [1 0]\n",
      "  [8 1]]\n",
      "\n",
      " [[2 2]\n",
      "  [1 1]\n",
      "  [0 0]\n",
      "  [4 5]]]\n"
     ]
    }
   ],
   "source": [
    "print(a)"
   ]
  },
  {
   "cell_type": "code",
   "execution_count": 3,
   "id": "8e00ff60",
   "metadata": {},
   "outputs": [
    {
     "data": {
      "text/plain": [
       "array([[ 3,  7],\n",
       "       [13,  6],\n",
       "       [ 6,  6],\n",
       "       [19, 14]])"
      ]
     },
     "execution_count": 3,
     "metadata": {},
     "output_type": "execute_result"
    }
   ],
   "source": [
    "np.sum(a, axis = 0)"
   ]
  },
  {
   "cell_type": "code",
   "execution_count": 4,
   "id": "341ec290",
   "metadata": {},
   "outputs": [
    {
     "data": {
      "text/plain": [
       "array([[16, 20],\n",
       "       [18,  5],\n",
       "       [ 7,  8]])"
      ]
     },
     "execution_count": 4,
     "metadata": {},
     "output_type": "execute_result"
    }
   ],
   "source": [
    "np.sum(a, axis = 1)"
   ]
  },
  {
   "cell_type": "code",
   "execution_count": 5,
   "id": "683aadeb",
   "metadata": {},
   "outputs": [
    {
     "data": {
      "text/plain": [
       "array([[ 3,  7, 11, 15],\n",
       "       [ 3, 10,  1,  9],\n",
       "       [ 4,  2,  0,  9]])"
      ]
     },
     "execution_count": 5,
     "metadata": {},
     "output_type": "execute_result"
    }
   ],
   "source": [
    "np.sum(a, axis = 2)"
   ]
  },
  {
   "cell_type": "markdown",
   "id": "bf2d8a48",
   "metadata": {},
   "source": [
    "## Print all the magic commands"
   ]
  },
  {
   "cell_type": "code",
   "execution_count": 1,
   "id": "79e4e531",
   "metadata": {},
   "outputs": [
    {
     "data": {
      "application/json": {
       "cell": {
        "!": "OSMagics",
        "HTML": "Other",
        "SVG": "Other",
        "bash": "Other",
        "capture": "ExecutionMagics",
        "cmd": "Other",
        "debug": "ExecutionMagics",
        "file": "Other",
        "html": "DisplayMagics",
        "javascript": "DisplayMagics",
        "js": "DisplayMagics",
        "latex": "DisplayMagics",
        "markdown": "DisplayMagics",
        "perl": "Other",
        "prun": "ExecutionMagics",
        "pypy": "Other",
        "python": "Other",
        "python2": "Other",
        "python3": "Other",
        "ruby": "Other",
        "script": "ScriptMagics",
        "sh": "Other",
        "svg": "DisplayMagics",
        "sx": "OSMagics",
        "system": "OSMagics",
        "time": "ExecutionMagics",
        "timeit": "ExecutionMagics",
        "writefile": "OSMagics"
       },
       "line": {
        "alias": "OSMagics",
        "alias_magic": "BasicMagics",
        "autoawait": "AsyncMagics",
        "autocall": "AutoMagics",
        "automagic": "AutoMagics",
        "autosave": "KernelMagics",
        "bookmark": "OSMagics",
        "cd": "OSMagics",
        "clear": "KernelMagics",
        "cls": "KernelMagics",
        "colors": "BasicMagics",
        "conda": "PackagingMagics",
        "config": "ConfigMagics",
        "connect_info": "KernelMagics",
        "copy": "Other",
        "ddir": "Other",
        "debug": "ExecutionMagics",
        "dhist": "OSMagics",
        "dirs": "OSMagics",
        "doctest_mode": "BasicMagics",
        "echo": "Other",
        "ed": "Other",
        "edit": "KernelMagics",
        "env": "OSMagics",
        "gui": "BasicMagics",
        "hist": "Other",
        "history": "HistoryMagics",
        "killbgscripts": "ScriptMagics",
        "ldir": "Other",
        "less": "KernelMagics",
        "load": "CodeMagics",
        "load_ext": "ExtensionMagics",
        "loadpy": "CodeMagics",
        "logoff": "LoggingMagics",
        "logon": "LoggingMagics",
        "logstart": "LoggingMagics",
        "logstate": "LoggingMagics",
        "logstop": "LoggingMagics",
        "ls": "Other",
        "lsmagic": "BasicMagics",
        "macro": "ExecutionMagics",
        "magic": "BasicMagics",
        "matplotlib": "PylabMagics",
        "mkdir": "Other",
        "more": "KernelMagics",
        "notebook": "BasicMagics",
        "page": "BasicMagics",
        "pastebin": "CodeMagics",
        "pdb": "ExecutionMagics",
        "pdef": "NamespaceMagics",
        "pdoc": "NamespaceMagics",
        "pfile": "NamespaceMagics",
        "pinfo": "NamespaceMagics",
        "pinfo2": "NamespaceMagics",
        "pip": "PackagingMagics",
        "popd": "OSMagics",
        "pprint": "BasicMagics",
        "precision": "BasicMagics",
        "prun": "ExecutionMagics",
        "psearch": "NamespaceMagics",
        "psource": "NamespaceMagics",
        "pushd": "OSMagics",
        "pwd": "OSMagics",
        "pycat": "OSMagics",
        "pylab": "PylabMagics",
        "qtconsole": "KernelMagics",
        "quickref": "BasicMagics",
        "recall": "HistoryMagics",
        "rehashx": "OSMagics",
        "reload_ext": "ExtensionMagics",
        "ren": "Other",
        "rep": "Other",
        "rerun": "HistoryMagics",
        "reset": "NamespaceMagics",
        "reset_selective": "NamespaceMagics",
        "rmdir": "Other",
        "run": "ExecutionMagics",
        "save": "CodeMagics",
        "sc": "OSMagics",
        "set_env": "OSMagics",
        "store": "StoreMagics",
        "sx": "OSMagics",
        "system": "OSMagics",
        "tb": "ExecutionMagics",
        "time": "ExecutionMagics",
        "timeit": "ExecutionMagics",
        "unalias": "OSMagics",
        "unload_ext": "ExtensionMagics",
        "who": "NamespaceMagics",
        "who_ls": "NamespaceMagics",
        "whos": "NamespaceMagics",
        "xdel": "NamespaceMagics",
        "xmode": "BasicMagics"
       }
      },
      "text/plain": [
       "Available line magics:\n",
       "%alias  %alias_magic  %autoawait  %autocall  %automagic  %autosave  %bookmark  %cd  %clear  %cls  %colors  %conda  %config  %connect_info  %copy  %ddir  %debug  %dhist  %dirs  %doctest_mode  %echo  %ed  %edit  %env  %gui  %hist  %history  %killbgscripts  %ldir  %less  %load  %load_ext  %loadpy  %logoff  %logon  %logstart  %logstate  %logstop  %ls  %lsmagic  %macro  %magic  %matplotlib  %mkdir  %more  %notebook  %page  %pastebin  %pdb  %pdef  %pdoc  %pfile  %pinfo  %pinfo2  %pip  %popd  %pprint  %precision  %prun  %psearch  %psource  %pushd  %pwd  %pycat  %pylab  %qtconsole  %quickref  %recall  %rehashx  %reload_ext  %ren  %rep  %rerun  %reset  %reset_selective  %rmdir  %run  %save  %sc  %set_env  %store  %sx  %system  %tb  %time  %timeit  %unalias  %unload_ext  %who  %who_ls  %whos  %xdel  %xmode\n",
       "\n",
       "Available cell magics:\n",
       "%%!  %%HTML  %%SVG  %%bash  %%capture  %%cmd  %%debug  %%file  %%html  %%javascript  %%js  %%latex  %%markdown  %%perl  %%prun  %%pypy  %%python  %%python2  %%python3  %%ruby  %%script  %%sh  %%svg  %%sx  %%system  %%time  %%timeit  %%writefile\n",
       "\n",
       "Automagic is ON, % prefix IS NOT needed for line magics."
      ]
     },
     "execution_count": 1,
     "metadata": {},
     "output_type": "execute_result"
    }
   ],
   "source": [
    "%lsmagic"
   ]
  },
  {
   "cell_type": "code",
   "execution_count": 2,
   "id": "ebc3f8a9",
   "metadata": {},
   "outputs": [
    {
     "data": {
      "text/plain": [
       "'C:\\\\Users\\\\User\\\\image processing\\\\image_processing_UCCC2513'"
      ]
     },
     "execution_count": 2,
     "metadata": {},
     "output_type": "execute_result"
    }
   ],
   "source": [
    "%pwd"
   ]
  },
  {
   "cell_type": "code",
   "execution_count": 3,
   "id": "4fa7a974",
   "metadata": {},
   "outputs": [
    {
     "name": "stdout",
     "output_type": "stream",
     "text": [
      " Volume in drive C is OS\n",
      " Volume Serial Number is CE4D-4ACD\n",
      "\n",
      " Directory of C:\\Users\\User\\image processing\\image_processing_UCCC2513\n",
      "\n",
      "23/06/2022  10:26 AM    <DIR>          .\n",
      "23/06/2022  10:26 AM    <DIR>          ..\n",
      "16/06/2022  10:43 AM    <DIR>          .ipynb_checkpoints\n",
      "22/06/2022  01:48 PM           208,585 ADwithGraderFeedback.pdf\n",
      "22/06/2022  01:53 PM         1,320,375 Anomaly_detection_in_Network_Traffic_Using_Unsupervised_Machine_learning_Approach.pdf\n",
      "04/06/2022  11:05 PM            13,276 coins.jfif\n",
      "23/06/2022  10:26 AM            21,531 demo.ipynb\n",
      "22/06/2022  11:39 AM           213,427 demo_1_w5.ipynb\n",
      "06/06/2022  10:44 AM             5,365 dog.jfif\n",
      "21/06/2022  01:00 PM            74,894 dog.png\n",
      "14/06/2022  01:36 PM             3,006 flower.jfif\n",
      "21/06/2022  03:39 PM    <DIR>          image_embed\n",
      "03/06/2022  02:27 PM        22,700,438 img_pexels.mp4\n",
      "03/06/2022  01:05 PM            52,378 lena.bmp\n",
      "03/06/2022  01:07 PM            27,729 lena.gif\n",
      "03/06/2022  01:00 PM             8,006 lena.jfif\n",
      "03/06/2022  01:08 PM            17,644 lena.jpg\n",
      "03/06/2022  01:07 PM           136,884 lena.png\n",
      "03/06/2022  01:18 PM           131,202 lena.tif\n",
      "21/06/2022  02:06 PM            18,260 lena_save.jpg\n",
      "06/06/2022  04:26 PM             3,977 low_contrast_img.jfif\n",
      "14/06/2022  01:47 PM           393,521 native-bee.png\n",
      "05/06/2022  11:00 AM            24,490 noisy.jfif\n",
      "14/06/2022  12:25 PM        26,447,838 out.avi\n",
      "16/06/2022  08:13 AM         2,255,241 paint_bright.jpg\n",
      "16/06/2022  08:13 AM         2,547,645 paint_dark.jpg\n",
      "17/06/2022  10:25 AM           385,936 pen.jpg\n",
      "04/06/2022  01:51 PM           120,671 RandomColor.png\n",
      "04/06/2022  01:51 PM           120,671 RandomGray.png\n",
      "14/06/2022  03:02 PM                 0 smaller_img_pexels.avi\n",
      "22/05/2022  09:11 AM           170,245 soccer.jpg\n",
      "06/06/2022  10:56 AM             3,674 star.png\n",
      "15/06/2022  11:36 AM           636,578 tutorial week6.ipynb\n",
      "21/06/2022  04:40 PM           635,719 tutorial_w4.html\n",
      "21/06/2022  04:47 PM            36,705 tutorial_w4.ipynb\n",
      "21/06/2022  04:31 PM           642,399 tutorial_w4.slides (1).html\n",
      "22/06/2022  11:39 AM         1,202,077 tutorial_w5.ipynb\n",
      "17/06/2022  01:31 PM           740,305 tutorial_w8.ipynb\n",
      "22/06/2022  11:39 AM           121,262 w4_activity_ans.ipynb\n",
      "              35 File(s)     61,441,954 bytes\n",
      "               4 Dir(s)  90,436,706,304 bytes free\n"
     ]
    }
   ],
   "source": [
    "%ls"
   ]
  },
  {
   "cell_type": "code",
   "execution_count": null,
   "id": "7c118782",
   "metadata": {},
   "outputs": [],
   "source": []
  }
 ],
 "metadata": {
  "kernelspec": {
   "display_name": "Python 3 (ipykernel)",
   "language": "python",
   "name": "python3"
  },
  "language_info": {
   "codemirror_mode": {
    "name": "ipython",
    "version": 3
   },
   "file_extension": ".py",
   "mimetype": "text/x-python",
   "name": "python",
   "nbconvert_exporter": "python",
   "pygments_lexer": "ipython3",
   "version": "3.9.0"
  }
 },
 "nbformat": 4,
 "nbformat_minor": 5
}
